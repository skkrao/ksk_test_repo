{
 "cells": [
  {
   "cell_type": "code",
   "execution_count": 33,
   "metadata": {},
   "outputs": [
    {
     "name": "stdout",
     "output_type": "stream",
     "text": [
      "12\n",
      "array with zeors [0. 0. 0.]\n",
      "array with ones [1. 1. 1. 1. 1.]\n",
      "array with ones [0. 0. 0.]\n",
      " array with a range of elements [0 1 2 3]\n",
      " array with a range of elements [-4.5 -4.  -3.5 -3.  -2.5 -2.  -1.5 -1.  -0.5  0.   0.5  1.   1.5  2.\n",
      "  2.5  3.   3.5  4.   4.5  5.   5.5  6. ]\n",
      " array with a range of elements [-7.5 -6.5 -5.5 -4.5 -3.5 -2.5 -1.5 -0.5  0.5]\n",
      "array with dtype ones [1. 1. 1.]\n"
     ]
    }
   ],
   "source": [
    "import numpy as np\n",
    "\n",
    "a= ([[2,-1,3,0],[3,2,-2,-1],[-1,0,1,2]])\n",
    "y=np.size(a)\n",
    "\n",
    "print(y)\n",
    "\n",
    "print(f\"array with zeors {np.zeros(3)}\")\n",
    "print(f\"array with ones {np.ones(5)}\")\n",
    "print(f\"array with ones {np.empty(3)}\")\n",
    "\n",
    "\n",
    "a1= np.arange(4)\n",
    "print(f\" array with a range of elements {a1}\")\n",
    "a2= np.arange(-4.5,6.5,0.5)\n",
    "print(f\" array with a range of elements {a2}\")\n",
    "a3= np.linspace(-7.5,0.5,num=9)\n",
    "print(f\" array with a range of elements {a3}\")\n",
    "\n",
    "a4= np.ones(3,dtype=np.float64)\n",
    "print(f\"array with dtype ones {a4}\")"
   ]
  },
  {
   "cell_type": "code",
   "execution_count": 44,
   "metadata": {},
   "outputs": [
    {
     "name": "stdout",
     "output_type": "stream",
     "text": [
      "\n",
      "The number of axes, or dimensions, of the array arr_1 is 3\n",
      "\n",
      "the number of elements stored along each dimension of the array in arr_1 is (3, 2, 5)\n",
      "\n",
      "the total number of elements of the array. This is the product of the elements of the array’s shape. in arr_1 is 30\n"
     ]
    }
   ],
   "source": [
    "arr_1 = np.array([[[0, 1, 2, 3,-1], [4, 5, 6, 7,-2]], [[0, 1, 2, 3,-3], [4, 5, 6, 7,2]], [[0 ,1 ,2, 3,11], [4, 5, 6, 7,-12]]])\n",
    "\n",
    "print(f\"\\nThe number of axes, or dimensions, of the array arr_1 is {arr_1.ndim}\")\n",
    "print(f\"\\nthe number of elements stored along each dimension of the array in arr_1 is {arr_1.shape}\")\n",
    "print(f\"\\nthe total number of elements of the array. This is the product of the elements of the array’s shape. in arr_1 is {arr_1.size}\")\n",
    "arr_2= ([[2,-1,3,0],[3,2,-2,-1],[-1,0,1,2]])\n",
    "#print(arr_2.ndim)\n",
    "#print(arr_2.shape)"
   ]
  },
  {
   "cell_type": "code",
   "execution_count": 49,
   "metadata": {},
   "outputs": [
    {
     "name": "stdout",
     "output_type": "stream",
     "text": [
      "[[[  0   1   2]\n",
      "  [  3  -1   4]\n",
      "  [  5   6   7]\n",
      "  [ -2   0   1]\n",
      "  [  2   3  -3]]\n",
      "\n",
      " [[  4   5   6]\n",
      "  [  7   2   0]\n",
      "  [  1   2   3]\n",
      "  [ 11   4   5]\n",
      "  [  6   7 -12]]]\n"
     ]
    }
   ],
   "source": [
    "ar_1 = np.array([[[0, 1, 2, 3,-1], [4, 5, 6, 7,-2]], [[0, 1, 2, 3,-3], [4, 5, 6, 7,2]], [[0 ,1 ,2, 3,11], [4, 5, 6, 7,-12]]])\n",
    "b1=ar_1.reshape(2,5,3)\n",
    "print(b1)"
   ]
  },
  {
   "cell_type": "code",
   "execution_count": 52,
   "metadata": {},
   "outputs": [
    {
     "name": "stdout",
     "output_type": "stream",
     "text": [
      "[[1 2 3 4 5 6]]\n"
     ]
    }
   ],
   "source": [
    "a21 = np.array([1, 2, 3, 4, 5, 6])\n",
    "a21.shape\n",
    "\n",
    "a3 = a21[np.newaxis, :]\n",
    "a3.shape\n",
    "print(a3)"
   ]
  },
  {
   "cell_type": "code",
   "execution_count": 57,
   "metadata": {},
   "outputs": [
    {
     "name": "stdout",
     "output_type": "stream",
     "text": [
      "the indices of elements that are less than 5 are (array([0, 0, 0, 0], dtype=int64), array([0, 1, 2, 3], dtype=int64))\n",
      "The first array represents the row indices where these values are found\n",
      "The second array represents the column indices where the values are found.\n",
      "(0, 0)\n",
      "(0, 1)\n",
      "(0, 2)\n",
      "(0, 3)\n"
     ]
    }
   ],
   "source": [
    "a = np.array([[1, 2, 3, 4], [5, 6, 7, 8], [9, 10, 11, 12]])\n",
    "b = np.nonzero(a < 5)\n",
    "print(f\"the indices of elements that are less than 5 are {b}\")\n",
    "\n",
    "print (\"The first array represents the row indices where these values are found\" )\n",
    "print (\"The second array represents the column indices where the values are found.\")\n",
    "\n",
    "list_of_coordinates= list(zip(b[0], b[1]))\n",
    "for x in list_of_coordinates:\n",
    "    print(x)"
   ]
  },
  {
   "cell_type": "code",
   "execution_count": 83,
   "metadata": {},
   "outputs": [
    {
     "name": "stdout",
     "output_type": "stream",
     "text": [
      "Printing Vertical stack result:\n",
      "[[ 1 -1]\n",
      " [ 2 -2]\n",
      " [ 3 -3]\n",
      " [ 4 -4]]\n",
      "\n",
      "Printing Horizontal stack result:\n",
      "[[ 1 -1  3 -3]\n",
      " [ 2 -2  4 -4]]\n"
     ]
    }
   ],
   "source": [
    "a1 = np.array([[1, -1],[2, -2]])\n",
    "\n",
    "a2 = np.array([[3, -3],[4, -4]])\n",
    "print(f\"Printing Vertical stack result:\\n{np.vstack((a1,a2))}\")\n",
    "print(f\"\\nPrinting Horizontal stack result:\\n{np.hstack((a1,a2))}\")"
   ]
  },
  {
   "cell_type": "code",
   "execution_count": 125,
   "metadata": {},
   "outputs": [
    {
     "name": "stdout",
     "output_type": "stream",
     "text": [
      "Complete Data array\n",
      " [[1 2]\n",
      " [3 4]\n",
      " [5 6]]\n",
      "data[1, 1] = 4\n",
      "\n",
      "data[0], This is Row-0 of the matrix: \n",
      "[1 2]\n",
      "\n",
      "data[1], This is Row-1 of the matrix:  = \n",
      " [3 4]\n",
      "\n",
      "data[2], This is Row-2 of the matrix:  = \n",
      " [5 6]\n",
      "\n",
      "data[:,0], This is column-0 of the matrix: \n",
      " [1 3 5]\n",
      "\n",
      "data[:,1], This is column-1 of the matrix: \n",
      " [2 4 6]\n",
      "\n",
      "data[0:] = \n",
      " [[1 2]\n",
      " [3 4]\n",
      " [5 6]]\n",
      "\n",
      "data[1:] = \n",
      " [[3 4]\n",
      " [5 6]]\n",
      "\n",
      "data[2:] = \n",
      " [[5 6]]\n",
      "\n",
      "data.max() = \n",
      " 6\n",
      "\n",
      "data.min() = \n",
      " 1\n",
      "\n",
      "data.sum() = \n",
      "21\n",
      "\n",
      "data.max(axis=0) = \n",
      " [5 6]\n",
      "\n",
      "data.max(axis=1) = \n",
      " [2 4 6]\n",
      "[[ 2  4]\n",
      " [ 6  8]\n",
      " [10 12]]\n"
     ]
    }
   ],
   "source": [
    "data = np.array([[1, 2], [3, 4],[5,6]])\n",
    "print(f\"Complete Data array\\n {data}\")\n",
    "\n",
    "print (f\"data[1, 1] = {data[1, 1]}\") \n",
    "print (f\"\\ndata[0], This is Row-0 of the matrix: \\n{data[0]}\") \n",
    "print (f\"\\ndata[1], This is Row-1 of the matrix:  = \\n {data[1]}\") \n",
    "print (f\"\\ndata[2], This is Row-2 of the matrix:  = \\n {data[2]}\") \n",
    "print (f\"\\ndata[:,0], This is column-0 of the matrix: \\n {data[:,0]}\") \n",
    "print (f\"\\ndata[:,1], This is column-1 of the matrix: \\n {data[:,1]}\") \n",
    "\n",
    "print (f\"\\ndata[0:] = \\n {data[0:]}\") \n",
    "print (f\"\\ndata[1:] = \\n {data[1:]}\") \n",
    "print (f\"\\ndata[2:] = \\n {data[2:]}\") \n",
    "\n",
    "print(f\"\\ndata.max() = \\n {data.max()}\") \n",
    "print(f\"\\ndata.min() = \\n {data.min()}\") \n",
    "print(f\"\\ndata.sum() = \\n{data.sum()}\") \n",
    "print(f\"\\ndata.max(axis=0) = \\n {data.max(axis=0)}\") \n",
    "print(f\"\\ndata.max(axis=1) = \\n {data.max(axis=1)}\") \n",
    "print((2*data))"
   ]
  },
  {
   "cell_type": "code",
   "execution_count": 133,
   "metadata": {},
   "outputs": [
    {
     "name": "stdout",
     "output_type": "stream",
     "text": [
      "Original matirx is [[1 2]\n",
      " [3 4]\n",
      " [5 6]]\n",
      "Printing transpose of Matrix using data.T function\n",
      "[[1 3 5]\n",
      " [2 4 6]]\n",
      "Printing transpose of Matrix using data.Transpose function\n",
      "[[1 3 5]\n",
      " [2 4 6]]\n",
      "Printing transpose of Matrix using data.reshape(1,6) function\n",
      "[[1 2 3 4 5 6]]\n"
     ]
    }
   ],
   "source": [
    "print(f\"Original matirx is {data}\")\n",
    "print(f\"Printing transpose of Matrix using data.T function\\n{data.T}\")\n",
    "print(f\"Printing transpose of Matrix using data.Transpose function\\n{data.transpose()}\")\n",
    "print(f\"Printing transpose of Matrix using data.reshape(1,6) function\\n{data.reshape(1,6)}\")\n"
   ]
  },
  {
   "cell_type": "code",
   "execution_count": 139,
   "metadata": {},
   "outputs": [
    {
     "name": "stdout",
     "output_type": "stream",
     "text": [
      "[[  1   2   3   4]\n",
      " [  5   6   7   8]\n",
      " [  9  10  11  12]\n",
      " [ -9 -10 -11 -12]]\n",
      "[[-12 -11 -10  -9]\n",
      " [ 12  11  10   9]\n",
      " [  8   7   6   5]\n",
      " [  4   3   2   1]]\n",
      "[[ -9 -10 -11 -12]\n",
      " [  9  10  11  12]\n",
      " [  5   6   7   8]\n",
      " [  1   2   3   4]]\n",
      "[[  4   3   2   1]\n",
      " [  8   7   6   5]\n",
      " [ 12  11  10   9]\n",
      " [-12 -11 -10  -9]]\n"
     ]
    }
   ],
   "source": [
    "arr_2d = np.array([[1, 2, 3, 4], [5, 6, 7, 8], [9, 10, 11, 12], [-9, -10, -11, -12]])\n",
    "print(arr_2d)\n",
    "reversed_arr = np.flip(arr_2d)\n",
    "print(reversed_arr)\n",
    "rev_arr1 = np.flip(arr_2d,axis=0)\n",
    "print(rev_arr1)\n",
    "rev_arr2 = np.flip(arr_2d,axis=1)\n",
    "print(rev_arr2)"
   ]
  },
  {
   "cell_type": "code",
   "execution_count": 149,
   "metadata": {},
   "outputs": [
    {
     "name": "stdout",
     "output_type": "stream",
     "text": [
      "3.0\n"
     ]
    }
   ],
   "source": [
    "n=3\n",
    "predictions = np.array([-1,1,1])\n",
    "labels = np.array([1,2,3])\n",
    "mean_square_error = (1/n)*np.sum(np.square(predictions-labels))\n",
    "print(mean_square_error)"
   ]
  },
  {
   "cell_type": "code",
   "execution_count": 177,
   "metadata": {},
   "outputs": [
    {
     "data": {
      "text/plain": [
       "<matplotlib.collections.PathCollection at 0x28d069ab908>"
      ]
     },
     "execution_count": 177,
     "metadata": {},
     "output_type": "execute_result"
    },
    {
     "data": {
      "image/png": "[encoded data removed]",
      "text/plain": [
       "<Figure size 432x288 with 1 Axes>"
      ]
     },
     "metadata": {
      "needs_background": "light"
     },
     "output_type": "display_data"
    }
   ],
   "source": [
    "import pandas as pd\n",
    "import matplotlib.pyplot as plt\n",
    "\n",
    "%matplotlib inline\n",
    "x=pd.read_csv(\"bike_sharing_data.txt\",usecols=[\"Population\"]).values\n",
    "#print(x)\n",
    "%matplotlib inline\n",
    "y=pd.read_csv(\"bike_sharing_data.txt\",usecols=[\"Profit\"]).values\n",
    "#print(y)\n",
    "plt.scatter(x,y)"
   ]
  },
  {
   "cell_type": "code",
   "execution_count": null,
   "metadata": {},
   "outputs": [],
   "source": []
  }
 ],
 "metadata": {
  "kernelspec": {
   "display_name": "Python 3",
   "language": "python",
   "name": "python3"
  },
  "language_info": {
   "codemirror_mode": {
    "name": "ipython",
    "version": 3
   },
   "file_extension": ".py",
   "mimetype": "text/x-python",
   "name": "python",
   "nbconvert_exporter": "python",
   "pygments_lexer": "ipython3",
   "version": "3.7.6"
  }
 },
 "nbformat": 4,
 "nbformat_minor": 4
}
