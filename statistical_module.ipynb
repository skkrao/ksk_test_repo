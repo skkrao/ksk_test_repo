{
 "cells": [
  {
   "cell_type": "code",
   "execution_count": 1,
   "metadata": {},
   "outputs": [
    {
     "name": "stdout",
     "output_type": "stream",
     "text": [
      "    Population    Profit\n",
      "0       6.1101  17.59200\n",
      "1       5.5277   9.13020\n",
      "2       8.5186  13.66200\n",
      "3       7.0032  11.85400\n",
      "4       5.8598   6.82330\n",
      "..         ...       ...\n",
      "92      5.8707   7.20290\n",
      "93      5.3054   1.98690\n",
      "94      8.2934   0.14454\n",
      "95     13.3940   9.05510\n",
      "96      5.4369   0.61705\n",
      "\n",
      "[97 rows x 2 columns]\n"
     ]
    }
   ],
   "source": [
    "import pandas as pd\n",
    "import statistics as stat\n",
    "data_a = pd.read_csv('bike_sharing_data.txt')\n",
    "print(data_a)\n"
   ]
  },
  {
   "cell_type": "code",
   "execution_count": 2,
   "metadata": {},
   "outputs": [
    {
     "name": "stdout",
     "output_type": "stream",
     "text": [
      "Harmonic Man of popurlation is 7.108464\n"
     ]
    }
   ],
   "source": [
    "#Harmonic mean = The reciprocal of the arithmetic mean() of the reciprocals of the data.\n",
    "#Harminic mean does not support negative values\n",
    "#Cannot caluculate HArmonic mean for Profit as it has few negative items\n",
    "y1= stat.harmonic_mean(data_a.Population)\n",
    "print(\"Harmonic Mean of popurlation is {}\".format (round(y1,6)))\n"
   ]
  },
  {
   "cell_type": "code",
   "execution_count": 5,
   "metadata": {},
   "outputs": [
    {
     "name": "stdout",
     "output_type": "stream",
     "text": [
      " Mean of popurlation is 8.1598\n",
      " Mean of popurlation is 5.839135\n"
     ]
    }
   ],
   "source": [
    "#Mean Calculates the average of the given data\n",
    "y2 = stat.mean(data_a.Population)\n",
    "print(\" Mean of Poplutaion is {}\".format (round(y2,6)))\n",
    "y3 = stat.mean(data_a.Profit)\n",
    "print(\" Mean of Profit is {}\".format (round(y3,6)))"
   ]
  },
  {
   "cell_type": "code",
   "execution_count": 12,
   "metadata": {},
   "outputs": [
    {
     "name": "stdout",
     "output_type": "stream",
     "text": [
      "Median of Poplutaion is 6.5894\n",
      "Median of Profit is 4.5623\n",
      "Median Grouped of Poplutaion is 6.5894\n",
      "Median Grouped of Profit is 4.5623\n",
      "Median Hign  of Poplutaion is 6.5894\n",
      "Median High of Profit is 4.5623\n"
     ]
    }
   ],
   "source": [
    "#Median is the middle value of the given data\n",
    "y4= stat.median(data_a.Population)\n",
    "print(\"Median of Poplutaion is {}\".format (round(y4,6)))\n",
    "y5= stat.median(data_a.Profit)\n",
    "print(\"Median of Profit is {}\".format (round(y5,6)))\n",
    "\n",
    "#median_grouped Calculates the median of grouped continuous data\n",
    "y6=stat.median_grouped(data_a.Population)\n",
    "print(\"Median Grouped of Poplutaion is {}\".format (round(y6,6)))\n",
    "y7=stat.median_grouped(data_a.Profit)\n",
    "print(\"Median Grouped of Profit is {}\".format (round(y7,6)))\n",
    "\n",
    "y8=stat.median_high(data_a.Population)\n",
    "print(\"Median Hign  of Poplutaion is {}\".format (round(y8,6)))\n",
    "y9=stat.median_grouped(data_a.Profit)\n",
    "print(\"Median High of Profit is {}\".format (round(y9,6)))\n",
    "\n"
   ]
  },
  {
   "cell_type": "code",
   "execution_count": 16,
   "metadata": {},
   "outputs": [
    {
     "name": "stdout",
     "output_type": "stream",
     "text": [
      "Mode  of Profit is 4.5623\n"
     ]
    }
   ],
   "source": [
    "#Calculate the mode (central tendency) of the given data\n",
    "#For this data in population there is no unique mode all 97 are qually common values \n",
    "#y10=stat.mode(data_a.Population)\n",
    "#print(\"Mode  of Poplutaion is {}\".format (round(y10,6)))\n",
    "y11=stat.median_grouped(data_a.Profit)\n",
    "print(\"Mode  of Profit is {}\".format (round(y11,6)))"
   ]
  },
  {
   "cell_type": "code",
   "execution_count": 21,
   "metadata": {},
   "outputs": [
    {
     "name": "stdout",
     "output_type": "stream",
     "text": [
      "Before swaping a=neelu and b = babu\n",
      "after swaping a=babu and b = neelu\n"
     ]
    }
   ],
   "source": [
    "def swap (x1,x2):\n",
    "    #print(f\"Before swaping x1={x1} and x2 = {x2}\")\n",
    "    c=x1\n",
    "    x1=x2\n",
    "    x2=c\n",
    "    #print(f\"after swaping x1={x1} and x2 = {x2}\")\n",
    "    return x1,x2\n",
    "a = \"neelu\" \n",
    "b = \"babu\"\n",
    "print(f\"Before swaping a={a} and b = {b}\")\n",
    "a,b = swap (a,b)\n",
    "print(f\"after swaping a={a} and b = {b}\")"
   ]
  },
  {
   "cell_type": "code",
   "execution_count": 23,
   "metadata": {},
   "outputs": [
    {
     "name": "stdout",
     "output_type": "stream",
     "text": [
      "standard deviation using pstdev metod for Poplutaion is 3.849884\n",
      "standard deviation using pstdev metod for Profit is 5.481785\n",
      "standard deviation using stdev metod for Poplutaion is 3.869884\n",
      "standard deviation using stdev metod for Profit is 5.510262\n"
     ]
    }
   ],
   "source": [
    "#The statistics.pstdev() method calculates the standard deviation from an entire population.\n",
    "#Standard deviation is a measure of how spread out the numbers are.\n",
    "#A large standard deviation indicates that the data is spread out, - \n",
    "#a small standard deviation indicates that the data is clustered closely around the mean.\n",
    "y12=stat.pstdev(data_a.Population)\n",
    "print(\"standard deviation using pstdev metod for Poplutaion is {}\".format (round(y12,6)))\n",
    "y13=stat.pstdev(data_a.Profit)\n",
    "print(\"standard deviation using pstdev metod for Profit is {}\".format (round(y13,6)))\n",
    "\n",
    "y14=stat.stdev(data_a.Population)\n",
    "print(\"standard deviation using stdev metod for Poplutaion is {}\".format (round(y14,6)))\n",
    "y15=stat.stdev(data_a.Profit)\n",
    "print(\"standard deviation using stdev metod for Profit is {}\".format (round(y15,6)))"
   ]
  },
  {
   "cell_type": "code",
   "execution_count": null,
   "metadata": {},
   "outputs": [],
   "source": [
    "for x in 1"
   ]
  }
 ],
 "metadata": {
  "kernelspec": {
   "display_name": "Python 3",
   "language": "python",
   "name": "python3"
  },
  "language_info": {
   "codemirror_mode": {
    "name": "ipython",
    "version": 3
   },
   "file_extension": ".py",
   "mimetype": "text/x-python",
   "name": "python",
   "nbconvert_exporter": "python",
   "pygments_lexer": "ipython3",
   "version": "3.7.6"
  }
 },
 "nbformat": 4,
 "nbformat_minor": 4
}
