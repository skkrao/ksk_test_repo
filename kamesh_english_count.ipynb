{
 "cells": [
  {
   "cell_type": "code",
   "execution_count": null,
   "metadata": {},
   "outputs": [],
   "source": [
    "a_list = [\"a\",\"an\",\"the\"]\n",
    "para=input(\"Enter String/paragraph: \")\n",
    "spli_para=para.split ()\n",
    "cc=len(spli_para)\n",
    "print (f\"words in split para  {cc}\")\n",
    "num = para.count (\" \")\n",
    "print (f\"spaces in para {num}\")\n",
    "print (f\"splitted para {spli_para}\")\n",
    "\n",
    "count=0\n",
    "non_art=0\n",
    "for x in a_list:\n",
    "    #print (f\"x= {x}\")\n",
    "    for y in spli_para:\n",
    "        #print (f\"y= {y}\")\n",
    "        if (x==y):\n",
    "            #print(f\"Count: {count}\")\n",
    "            count+=1\n",
    "            #print(f\"Article found: {x} and {y}\")\n",
    "        else:\n",
    "            non_art+=1\n",
    "            #print(f\"article not found\")\n",
    "print(f\"count of Articles = {count}\")\n"
   ]
  },
  {
   "cell_type": "code",
   "execution_count": null,
   "metadata": {},
   "outputs": [],
   "source": [
    "a_list = [\"a\",\"an\",\"the\"]\n",
    "para=input(\"Enter String/paragraph: \") #This line reads the paragraph \n",
    "#the below line split the para into words and find the number of words\n",
    "spli_para=para.split ()\n",
    "cc=len(spli_para)\n",
    "\n",
    "num = para.count (\" \")\n",
    "\n",
    "count=0\n",
    "non_art=0\n",
    "for x in spli_para:\n",
    "    #print (f\"x= {x}\")\n",
    "    if ((x==a_list[0]) or (x==a_list[1]) or (x==a_list[2])):\n",
    "        #print(f\"Count: {count}\")\n",
    "        count+=1\n",
    "        #print(f\"Article found: {x} \")\n",
    "    else:\n",
    "        non_art+=1\n",
    "print (f\"words in split para  {cc}\")\n",
    "print(f\"count of Articles = {count}\")\n",
    "print(f\"count of non Articles word= {non_art}\")\n",
    "print (f\"spaces in para {num}\")\n",
    "#print (f\"splitted para {spli_para}\")"
   ]
  },
  {
   "cell_type": "code",
   "execution_count": 9,
   "metadata": {},
   "outputs": [],
   "source": [
    "import datetime as dt\n",
    "f=open(\"kamu_one.txt\",\"w\")\n",
    "f.write(f\"This file is written at {dt.datetime.now()}\")\n",
    "i=12\n",
    "for x in range (i):\n",
    "       f.write (\"\\nWriting {1}th line\")\n",
    "f.write (\"\\nwriting the final line\")\n",
    "f.close()"
   ]
  },
  {
   "cell_type": "code",
   "execution_count": null,
   "metadata": {},
   "outputs": [],
   "source": []
  }
 ],
 "metadata": {
  "kernelspec": {
   "display_name": "Python 3",
   "language": "python",
   "name": "python3"
  },
  "language_info": {
   "codemirror_mode": {
    "name": "ipython",
    "version": 3
   },
   "file_extension": ".py",
   "mimetype": "text/x-python",
   "name": "python",
   "nbconvert_exporter": "python",
   "pygments_lexer": "ipython3",
   "version": "3.7.6"
  }
 },
 "nbformat": 4,
 "nbformat_minor": 4
}
